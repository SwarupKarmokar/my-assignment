{
 "cells": [
  {
   "cell_type": "markdown",
   "metadata": {},
   "source": [
    "# Assignment_2:"
   ]
  },
  {
   "cell_type": "markdown",
   "metadata": {},
   "source": [
    "#### 1. What are the Boolean data type&#39;s two values? How do you go about writing them?"
   ]
  },
  {
   "cell_type": "code",
   "execution_count": null,
   "metadata": {},
   "outputs": [],
   "source": [
    "Ans:\n",
    "    Boolean data type's two values--> True or False.\n",
    "    ---> print(3>2) its return True. and print(2>3) return False."
   ]
  },
  {
   "cell_type": "markdown",
   "metadata": {},
   "source": [
    "#### 2. What are the three different types of Boolean operators?"
   ]
  },
  {
   "cell_type": "code",
   "execution_count": null,
   "metadata": {},
   "outputs": [],
   "source": [
    "Ans:\n",
    "    AND operator.\n",
    "    OR operator.\n",
    "    NOT operator."
   ]
  },
  {
   "cell_type": "markdown",
   "metadata": {},
   "source": [
    "#### 3. Make a list of each Boolean operator&#39;s truth tables (i.e. every possible combination of Boolean values for the operator and what it evaluate )."
   ]
  },
  {
   "cell_type": "code",
   "execution_count": null,
   "metadata": {},
   "outputs": [],
   "source": [
    "Ans:\n",
    "    (here T = True and F = False)\n",
    "    \n",
    "    AND operator: T and T = T, T and F = F, F and T = F, F and F = F.\n",
    "        \n",
    "    OR operator: T or T = T, T or F = T, F or T = T, F or F = F.\n",
    "        \n",
    "    NOT operator: !T = F, !F = T."
   ]
  },
  {
   "cell_type": "markdown",
   "metadata": {},
   "source": [
    "#### 4. What are the values of the following expressions?\n",
    "#### (5 &gt; 4) and (3 == 5)\n",
    "#### not (5 &gt; 4)\n",
    "#### (5 &gt; 4) or (3 == 5)\n",
    "#### not ((5 &gt; 4) or (3 == 5))\n",
    "#### (True and True) and (True == False)\n",
    "#### (not False) or (not True)"
   ]
  },
  {
   "cell_type": "code",
   "execution_count": null,
   "metadata": {},
   "outputs": [],
   "source": [
    "Ans:\n",
    "    (5 > 4) and (3 == 5) = False.\n",
    "    \n",
    "    not (5 > 4) = False.\n",
    "    \n",
    "    (5 > 4) or (3 == 5) = True.\n",
    "    \n",
    "    not ((5 > 4) or (3 == 5)) = False.\n",
    "    \n",
    "    (True and True) and (True == False) = False.\n",
    "    \n",
    "    (not False) or (not True) = True."
   ]
  },
  {
   "cell_type": "markdown",
   "metadata": {},
   "source": [
    "#### 5. What are the six different types of reference operators?"
   ]
  },
  {
   "cell_type": "code",
   "execution_count": null,
   "metadata": {},
   "outputs": [],
   "source": [
    "Ans:\n",
    "    1 Assignment operator------> like: +=, -=.\n",
    "        \n",
    "    2 Arithmatic operator-------> like: +, -, *, /.\n",
    "    \n",
    "    3 Comparison operator-------> like: >,<,>=,<=.\n",
    "        \n",
    "    4 Bitwise operator----------> like: &, !.\n",
    "        \n",
    "    5 Logical operator----------> like: and,or.\n",
    "        \n",
    "    6 Identity operator----------> like: is, is not."
   ]
  },
  {
   "cell_type": "markdown",
   "metadata": {},
   "source": [
    "#### 6. How do you tell the difference between the equal to and assignment operators?"
   ]
  },
  {
   "cell_type": "code",
   "execution_count": null,
   "metadata": {},
   "outputs": [],
   "source": [
    "Ans:\n",
    "    we used equal operator to assign values to the variable using right to left assignment.\n",
    "    but we used assignment operator to increament or decreament the varable values."
   ]
  },
  {
   "cell_type": "markdown",
   "metadata": {},
   "source": [
    "#### 7. Describe a condition and when you would use one."
   ]
  },
  {
   "cell_type": "code",
   "execution_count": null,
   "metadata": {},
   "outputs": [],
   "source": [
    "Ans:\n",
    "    if else elif statement condition is a condition where its control the flow of execution in our python code in the basis of boolean condition.\n",
    "    use:\n",
    "        if we want to go somewhere and if we wait for some condition is True for going to the trip otherwise no. then we use the if else statement.\n",
    "        like:\n",
    "            weather = input('enter the weather condition: ')\n",
    "            \n",
    "            if weather == 'good':\n",
    "                print('hurray its party time.')\n",
    "            else:\n",
    "                print('sorry cancle the trip')"
   ]
  },
  {
   "cell_type": "markdown",
   "metadata": {},
   "source": [
    "#### 8. Recognize the following three blocks in this code:\n",
    "\n",
    "#### spam = 0\n",
    "#### if spam == 10:\n",
    "####     print(&#39;eggs&#39;)\n",
    "\n",
    "####  if spam &gt; 5:\n",
    "####     print(&#39;bacon&#39;)\n",
    "####  else:\n",
    "####     print(&#39;ham&#39;)\n",
    "####  print(&#39;spam&#39;)\n",
    "#### print(&#39;spam&#39;)"
   ]
  },
  {
   "cell_type": "code",
   "execution_count": null,
   "metadata": {},
   "outputs": [],
   "source": [
    "Ans:\n",
    "    1st block:\n",
    "        if spam == 10:\n",
    "            print('eggs')\n",
    "    \n",
    "    2nd block:\n",
    "        \n",
    "    if spam > 5:\n",
    "        print('bacon')\n",
    "    else:\n",
    "        print('ham')\n",
    "    print('spam')\n",
    "    \n",
    "    3rd block:\n",
    "            print('spam')\n"
   ]
  },
  {
   "cell_type": "markdown",
   "metadata": {},
   "source": [
    "#### 9. Create a programme that prints. If 1 is stored in spam, prints Hello; if 2 is stored in spam, prints Howdy; and if 3 is stored in spam, print Salutations! if there&#39;s something else in spam."
   ]
  },
  {
   "cell_type": "code",
   "execution_count": null,
   "metadata": {},
   "outputs": [],
   "source": [
    "spam = int(input('enter your choice(1,2,3): '))\n",
    "\n",
    "if spam == 1:\n",
    "    print('Hello')\n",
    "elif spam == 2:\n",
    "    print('Howdy')\n",
    "elif spam == 3:\n",
    "    print('solutions')\n",
    "else:\n",
    "    print(\"if there's something else in spam\")"
   ]
  },
  {
   "cell_type": "markdown",
   "metadata": {},
   "source": [
    "#### 10.If your programme is stuck in an endless loop, what keys can you press?"
   ]
  },
  {
   "cell_type": "code",
   "execution_count": null,
   "metadata": {},
   "outputs": [],
   "source": [
    "Ans:\n",
    "    in python console we can press ctrl + c for stopping the loop.\n",
    "    in jupyter simply shutdown my kernal by pressing 00."
   ]
  },
  {
   "cell_type": "markdown",
   "metadata": {},
   "source": [
    "#### 11. How can you tell the difference between break and continue?"
   ]
  },
  {
   "cell_type": "code",
   "execution_count": null,
   "metadata": {},
   "outputs": [],
   "source": [
    "Ans:\n",
    "    break statement is used for stopping the programe where all the given condition is satisfied.\n",
    "    continue stament used for scaping some condition in python."
   ]
  },
  {
   "cell_type": "markdown",
   "metadata": {},
   "source": [
    "#### 12. In a for loop, what is the difference between range(10), range(0, 10), and range(0, 10, 1)?"
   ]
  },
  {
   "cell_type": "code",
   "execution_count": null,
   "metadata": {},
   "outputs": [],
   "source": [
    "Ans:\n",
    "    only difference between range(10), range(0,10), range(0,10,1) in writing style. inner thing is same."
   ]
  },
  {
   "cell_type": "markdown",
   "metadata": {},
   "source": [
    "#### 13. Using a for loop, write a short programme that prints the numbers 1 to 10 Then, using a while loop, create an identical programme that prints the numbers 1 to 10."
   ]
  },
  {
   "cell_type": "code",
   "execution_count": null,
   "metadata": {},
   "outputs": [],
   "source": [
    "Ans:\n",
    "    #using for loop\n",
    "    for i in range(1,11):\n",
    "        print(i)\n",
    "    \n",
    "    #using while loop\n",
    "    i = 0\n",
    "    while i<10:\n",
    "        i += 1\n",
    "        print(i)"
   ]
  },
  {
   "cell_type": "markdown",
   "metadata": {},
   "source": [
    "#### 14. If you had a bacon() function within a spam module, what would you call it after importing spam?"
   ]
  },
  {
   "cell_type": "code",
   "execution_count": null,
   "metadata": {},
   "outputs": [],
   "source": [
    "Ans:\n",
    "    from spam import bacon"
   ]
  }
 ],
 "metadata": {
  "kernelspec": {
   "display_name": "Python 3",
   "language": "python",
   "name": "python3"
  },
  "language_info": {
   "codemirror_mode": {
    "name": "ipython",
    "version": 3
   },
   "file_extension": ".py",
   "mimetype": "text/x-python",
   "name": "python",
   "nbconvert_exporter": "python",
   "pygments_lexer": "ipython3",
   "version": "3.8.5"
  }
 },
 "nbformat": 4,
 "nbformat_minor": 4
}
