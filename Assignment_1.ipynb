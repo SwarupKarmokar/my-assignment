{
 "cells": [
  {
   "cell_type": "markdown",
   "metadata": {},
   "source": [
    "# Assignment_1:"
   ]
  },
  {
   "cell_type": "markdown",
   "metadata": {},
   "source": [
    "#### 1.What are the differnces between operators and values in the following?"
   ]
  },
  {
   "cell_type": "markdown",
   "metadata": {},
   "source": [
    "Ans: \n",
    "    * the multiple operator is used for multiplying two or multiple values.\n",
    "    'hello' is a type of string values.\n",
    "    -87.8 is a type of float values.\n",
    "    - is the subtraction operator used for subtracting two or multiple values.\n",
    "    / is the division operator used for dividing two or multiple values.\n",
    "    + is the summation operator used for summing two or multiple values.\n",
    "    6 is a type of int values."
   ]
  },
  {
   "cell_type": "markdown",
   "metadata": {},
   "source": [
    "#### 2.What is the difference between string and variable?"
   ]
  },
  {
   "cell_type": "markdown",
   "metadata": {},
   "source": [
    "Ans:\n",
    "    spam is a variable where we can store any type of data values(like-> str,int,float).\n",
    "    'spam' is the type of string class data types where every text in between the quotation is belong to string class.\n",
    "    "
   ]
  },
  {
   "cell_type": "markdown",
   "metadata": {},
   "source": [
    "#### 3.Describe three different data forms."
   ]
  },
  {
   "cell_type": "markdown",
   "metadata": {},
   "source": [
    "Ans:\n",
    "    str-> String data forms where we can write anything between quotation and all the data values belongs to str class itself.\n",
    "    int-> Integer data forms where we can access numeric values and all the data values belongs to int class itself.\n",
    "    float-> Floating data forms where we can access floting point data values and all values belongs to float class itself."
   ]
  },
  {
   "cell_type": "markdown",
   "metadata": {},
   "source": [
    "#### 4.What makes up an expression?What are the functions of all expressiions?"
   ]
  },
  {
   "cell_type": "markdown",
   "metadata": {},
   "source": [
    "Ans: \n",
    "    Variable, operator, method and syntax makes up an expression.\n",
    "    function of all expression-->Expression need to be evaluated."
   ]
  },
  {
   "cell_type": "markdown",
   "metadata": {},
   "source": [
    "#### 5.In this chapter, assignment statements such as spam = 10 were added. what's the difference between a declaration and an expression?"
   ]
  },
  {
   "cell_type": "markdown",
   "metadata": {},
   "source": [
    "Ans:\n",
    "    expression is syntical object where declaration is the mathematical objects."
   ]
  },
  {
   "cell_type": "markdown",
   "metadata": {},
   "source": [
    "#### 6.After running the following code, what does the variable bacon contain?\n",
    "#### bacon = 22\n",
    "#### bacon + 1"
   ]
  },
  {
   "cell_type": "markdown",
   "metadata": {},
   "source": [
    "Ans:\n",
    "    bacon contain 22."
   ]
  },
  {
   "cell_type": "markdown",
   "metadata": {},
   "source": [
    "#### 7.What should the values of the following two terms be? \n",
    "#### 'spam' + 'spamspam' \n",
    "#### 'spam' * 3"
   ]
  },
  {
   "cell_type": "markdown",
   "metadata": {},
   "source": [
    "Ans:\n",
    "    'spam' + 'spamspam' = 'spamspamspam'.\n",
    "    'spam' * 3 = 'spamspamspam'."
   ]
  },
  {
   "cell_type": "markdown",
   "metadata": {},
   "source": [
    "#### 8. Why is it that eggs is a true variable name but 100 is not?"
   ]
  },
  {
   "cell_type": "markdown",
   "metadata": {},
   "source": [
    "Ans:\n",
    "    We can store any data type in naming convention variable. we can't take data type in number convention variable because variable name not start with number. "
   ]
  },
  {
   "cell_type": "markdown",
   "metadata": {},
   "source": [
    "#### 9. Which of the following three functions may be used to convert a value to an integer, a floating-point number, or a string?"
   ]
  },
  {
   "cell_type": "markdown",
   "metadata": {},
   "source": [
    "Ans:\n",
    "    int()\n",
    "    float()\n",
    "    str()"
   ]
  },
  {
   "cell_type": "markdown",
   "metadata": {},
   "source": [
    "#### 10. What is the error caused by this expression? what would you do about it?\n",
    "#### 'i have eaten' + 99 + 'burritos'"
   ]
  },
  {
   "cell_type": "markdown",
   "metadata": {},
   "source": [
    "Ans:\n",
    "    error---> concatenation error because we can't concatenate int values with str values.\n",
    "    __> to erase this error we can type casting the int value with str values or simply we can remove the int value from the expression."
   ]
  }
 ],
 "metadata": {
  "kernelspec": {
   "display_name": "Python 3",
   "language": "python",
   "name": "python3"
  },
  "language_info": {
   "codemirror_mode": {
    "name": "ipython",
    "version": 3
   },
   "file_extension": ".py",
   "mimetype": "text/x-python",
   "name": "python",
   "nbconvert_exporter": "python",
   "pygments_lexer": "ipython3",
   "version": "3.8.5"
  }
 },
 "nbformat": 4,
 "nbformat_minor": 4
}
